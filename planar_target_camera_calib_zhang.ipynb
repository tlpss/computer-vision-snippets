{
 "cells": [
  {
   "cell_type": "markdown",
   "metadata": {},
   "source": [
    "camera calibration with planar calibration target using the method described by Zhang\n",
    "\n",
    "(only the initial estimate ignoring distortion)\n",
    "\n",
    "sources:\n",
    "\n",
    "- Zhang et al. A flexible approach to camera calibration.\n",
    "\n",
    "\n",
    "calibration patterns: 20mm slightly too small to detect reliably. 25mm is OK. the more points, the better! with 25mm, can only get 60 points for each image."
   ]
  },
  {
   "cell_type": "code",
   "execution_count": 56,
   "metadata": {},
   "outputs": [
    {
     "name": "stdout",
     "output_type": "stream",
     "text": [
      "['calibration_images/92.png', 'calibration_images/97.png', 'calibration_images/27.png', 'calibration_images/28.png', 'calibration_images/84.png', 'calibration_images/70.png', 'calibration_images/36.png', 'calibration_images/95.png', 'calibration_images/45.png', 'calibration_images/44.png', 'calibration_images/94.png', 'calibration_images/29.png', 'calibration_images/61.png', 'calibration_images/86.png', 'calibration_images/56.png', 'calibration_images/98.png', 'calibration_images/32.png', 'calibration_images/43.png', 'calibration_images/14.png', 'calibration_images/24.png', 'calibration_images/7.png', 'calibration_images/59.png', 'calibration_images/76.png', 'calibration_images/75.png', 'calibration_images/21.png', 'calibration_images/23.png', 'calibration_images/60.png', 'calibration_images/34.png', 'calibration_images/55.png', 'calibration_images/37.png', 'calibration_images/78.png', 'calibration_images/65.png', 'calibration_images/72.png', 'calibration_images/68.png', 'calibration_images/90.png', 'calibration_images/38.png', 'calibration_images/88.png', 'calibration_images/0.png', 'calibration_images/58.png', 'calibration_images/49.png', 'calibration_images/48.png', 'calibration_images/17.png', 'calibration_images/25.png', 'calibration_images/39.png', 'calibration_images/87.png', 'calibration_images/15.png', 'calibration_images/53.png', 'calibration_images/64.png', 'calibration_images/74.png', 'calibration_images/99.png', 'calibration_images/46.png', 'calibration_images/31.png', 'calibration_images/85.png', 'calibration_images/41.png', 'calibration_images/80.png', 'calibration_images/69.png', 'calibration_images/35.png', 'calibration_images/4.png', 'calibration_images/1.png', 'calibration_images/71.png', 'calibration_images/67.png', 'calibration_images/82.png', 'calibration_images/9.png', 'calibration_images/22.png', 'calibration_images/66.png', 'calibration_images/20.png', 'calibration_images/6.png', 'calibration_images/79.png', 'calibration_images/12.png', 'calibration_images/62.png', 'calibration_images/96.png', 'calibration_images/50.png', 'calibration_images/19.png', 'calibration_images/30.png', 'calibration_images/18.png', 'calibration_images/11.png', 'calibration_images/47.png', 'calibration_images/73.png', 'calibration_images/52.png', 'calibration_images/40.png', 'calibration_images/33.png', 'calibration_images/5.png', 'calibration_images/63.png', 'calibration_images/10.png', 'calibration_images/16.png', 'calibration_images/77.png', 'calibration_images/26.png', 'calibration_images/51.png', 'calibration_images/89.png', 'calibration_images/8.png', 'calibration_images/2.png', 'calibration_images/81.png', 'calibration_images/54.png', 'calibration_images/91.png', 'calibration_images/42.png', 'calibration_images/3.png', 'calibration_images/83.png', 'calibration_images/93.png', 'calibration_images/57.png', 'calibration_images/13.png']\n"
     ]
    }
   ],
   "source": [
    "# load the images\n",
    "import pathlib\n",
    "\n",
    "image_dir = \"calibration_images\"\n",
    "\n",
    "all_images = pathlib.Path(image_dir).glob('*.png')\n",
    "all_images = [str(path) for path in all_images]\n",
    "\n",
    "print(all_images)\n",
    "\n"
   ]
  },
  {
   "cell_type": "code",
   "execution_count": 57,
   "metadata": {},
   "outputs": [
    {
     "name": "stdout",
     "output_type": "stream",
     "text": [
      "Error: calibration_images/92.png has 58 corners\n",
      "Error: calibration_images/97.png has 56 corners\n",
      "Error: calibration_images/45.png has 54 corners\n",
      "Error: calibration_images/29.png has 58 corners\n",
      "Error: calibration_images/43.png has 58 corners\n",
      "Error: calibration_images/24.png has 54 corners\n",
      "Error: calibration_images/59.png has 56 corners\n",
      "Error: calibration_images/60.png has 56 corners\n",
      "Error: calibration_images/34.png has 58 corners\n",
      "Error: calibration_images/58.png has 56 corners\n",
      "Error: calibration_images/49.png has 54 corners\n",
      "Error: calibration_images/53.png has 56 corners\n",
      "Error: calibration_images/64.png has 56 corners\n",
      "Error: calibration_images/46.png has 58 corners\n",
      "Error: calibration_images/41.png has 58 corners\n",
      "Error: calibration_images/66.png has 54 corners\n",
      "Error: calibration_images/79.png has 56 corners\n",
      "Error: calibration_images/62.png has 58 corners\n",
      "Error: calibration_images/47.png has 56 corners\n",
      "Error: calibration_images/52.png has 58 corners\n",
      "Error: calibration_images/26.png has 58 corners\n",
      "Error: calibration_images/51.png has 58 corners\n",
      "Error: calibration_images/54.png has 58 corners\n",
      "Error: calibration_images/83.png has 58 corners\n",
      "Error: calibration_images/57.png has 48 corners\n",
      "Rejected images: ['calibration_images/92.png', 'calibration_images/97.png', 'calibration_images/45.png', 'calibration_images/29.png', 'calibration_images/43.png', 'calibration_images/24.png', 'calibration_images/59.png', 'calibration_images/60.png', 'calibration_images/34.png', 'calibration_images/58.png', 'calibration_images/49.png', 'calibration_images/53.png', 'calibration_images/64.png', 'calibration_images/46.png', 'calibration_images/41.png', 'calibration_images/66.png', 'calibration_images/79.png', 'calibration_images/62.png', 'calibration_images/47.png', 'calibration_images/52.png', 'calibration_images/26.png', 'calibration_images/51.png', 'calibration_images/54.png', 'calibration_images/83.png', 'calibration_images/57.png']\n"
     ]
    }
   ],
   "source": [
    "# for all images, load the image and detect the marker corners using opencv\n",
    "\n",
    "import cv2\n",
    "import cv2.aruco\n",
    "import numpy as np\n",
    "np.set_printoptions(precision=4, suppress=True)\n",
    "\n",
    "\n",
    "rejected_images = []\n",
    "\n",
    "# see the pdf file in the airo-camera-toolkit/docs folder\n",
    "aruco_dict =  cv2.aruco.getPredefinedDictionary(cv2.aruco.DICT_4X4_250)\n",
    "charuco_board = cv2.aruco.CharucoBoard((11,7), 0.025, 0.018, aruco_dict)\n",
    "corner_dict = {}\n",
    "\n",
    "for image in all_images:\n",
    "    img = cv2.imread(image)\n",
    "    gray = cv2.cvtColor(img, cv2.COLOR_RGB2GRAY)\n",
    "    corners, ids, rejectedImgPoints = cv2.aruco.detectMarkers(gray, aruco_dict)\n",
    "\n",
    "    n_corners, charuco_corners, ids = cv2.aruco.interpolateCornersCharuco(corners, ids, gray, charuco_board)\n",
    "\n",
    "    # for i in range(len(ids) - 1):\n",
    "    #     if ids[i] !=i:\n",
    "    #         print(f\"Error: {image} has unsorted ids\")\n",
    "    #         rejected_images.append(image)\n",
    "    #         break\n",
    "    if n_corners > 0:\n",
    "        # refine corners\n",
    "        charuco_corners = cv2.cornerSubPix(gray, charuco_corners, winSize=(3, 3), zeroZone=(-1, -1), criteria=(cv2.TERM_CRITERIA_EPS + cv2.TERM_CRITERIA_MAX_ITER, 30, 0.01))\n",
    "\n",
    "    if not len(charuco_corners) == 60:\n",
    "        print(f\"Error: {image} has {len(charuco_corners)} corners\")\n",
    "        rejected_images.append(image)\n",
    "    else:\n",
    "        corner_dict[image] = {\"corners\": corners, \"charuco_corners\": charuco_corners, \"ids\": ids}\n",
    "\n",
    "print(f\"Rejected images: {rejected_images}\")\n",
    "all_images = [image for image in all_images if image not in rejected_images]\n",
    "\n",
    "# visualize the detected corners\n",
    "import matplotlib.pyplot as plt\n",
    "\n",
    "for image in all_images:\n",
    "    img = cv2.imread(image)\n",
    "    corners = corner_dict[image]\n",
    "    img = cv2.aruco.drawDetectedCornersCharuco(img, np.array(corners[\"charuco_corners\"]), np.array(corners[\"ids\"]), (0, 255, 0))\n",
    "\n",
    "    # convert from BGR to RGB\n",
    "    img = cv2.cvtColor(img, cv2.COLOR_BGR2RGB)\n",
    "    #plt.imshow(img)\n",
    "    plt.show()"
   ]
  },
  {
   "cell_type": "code",
   "execution_count": 58,
   "metadata": {},
   "outputs": [
    {
     "name": "stdout",
     "output_type": "stream",
     "text": [
      "75\n"
     ]
    }
   ],
   "source": [
    "print(len(all_images))"
   ]
  },
  {
   "cell_type": "code",
   "execution_count": 59,
   "metadata": {},
   "outputs": [
    {
     "name": "stdout",
     "output_type": "stream",
     "text": [
      "[[0.0, 0.0, 0], [0.025, 0.0, 0], [0.05, 0.0, 0], [0.07500000000000001, 0.0, 0], [0.1, 0.0, 0], [0.125, 0.0, 0], [0.15000000000000002, 0.0, 0], [0.17500000000000002, 0.0, 0], [0.2, 0.0, 0], [0.225, 0.0, 0], [0.0, 0.025, 0], [0.025, 0.025, 0], [0.05, 0.025, 0], [0.07500000000000001, 0.025, 0], [0.1, 0.025, 0], [0.125, 0.025, 0], [0.15000000000000002, 0.025, 0], [0.17500000000000002, 0.025, 0], [0.2, 0.025, 0], [0.225, 0.025, 0], [0.0, 0.05, 0], [0.025, 0.05, 0], [0.05, 0.05, 0], [0.07500000000000001, 0.05, 0], [0.1, 0.05, 0], [0.125, 0.05, 0], [0.15000000000000002, 0.05, 0], [0.17500000000000002, 0.05, 0], [0.2, 0.05, 0], [0.225, 0.05, 0], [0.0, 0.07500000000000001, 0], [0.025, 0.07500000000000001, 0], [0.05, 0.07500000000000001, 0], [0.07500000000000001, 0.07500000000000001, 0], [0.1, 0.07500000000000001, 0], [0.125, 0.07500000000000001, 0], [0.15000000000000002, 0.07500000000000001, 0], [0.17500000000000002, 0.07500000000000001, 0], [0.2, 0.07500000000000001, 0], [0.225, 0.07500000000000001, 0], [0.0, 0.1, 0], [0.025, 0.1, 0], [0.05, 0.1, 0], [0.07500000000000001, 0.1, 0], [0.1, 0.1, 0], [0.125, 0.1, 0], [0.15000000000000002, 0.1, 0], [0.17500000000000002, 0.1, 0], [0.2, 0.1, 0], [0.225, 0.1, 0], [0.0, 0.125, 0], [0.025, 0.125, 0], [0.05, 0.125, 0], [0.07500000000000001, 0.125, 0], [0.1, 0.125, 0], [0.125, 0.125, 0], [0.15000000000000002, 0.125, 0], [0.17500000000000002, 0.125, 0], [0.2, 0.125, 0], [0.225, 0.125, 0]]\n"
     ]
    }
   ],
   "source": [
    "# create real-world planar coordinates. points are in a 4x6 grid with 40mm spacing \n",
    "\n",
    "# create the planar coordinates\n",
    "planar_coords = []\n",
    "for j in range(6):\n",
    "    for i in range(10):\n",
    "        planar_coords.append([i*0.025, j*0.025, 0])\n",
    "print(planar_coords)\n",
    "\n"
   ]
  },
  {
   "cell_type": "code",
   "execution_count": 60,
   "metadata": {},
   "outputs": [
    {
     "name": "stdout",
     "output_type": "stream",
     "text": [
      "0.3710893895978173\n",
      "0.39127393028086777\n",
      "0.9629500258828609\n",
      "0.25901475161351717\n",
      "0.31440767977350004\n",
      "0.37690018186285845\n",
      "0.2829710829231102\n",
      "0.35940499257995656\n",
      "0.2901286097160234\n",
      "0.7395118372307569\n",
      "0.27324146958067613\n",
      "0.315507706482227\n",
      "0.7522992928822138\n",
      "1.6271893101248815\n",
      "1.273041946846661\n",
      "0.3450113741750896\n",
      "0.37428064450153836\n",
      "1.2758189952957126\n",
      "1.3384883104384449\n",
      "0.7160427634417558\n",
      "0.34852561988308567\n",
      "0.38838738340049406\n",
      "0.2767036818407497\n",
      "0.3917634822913619\n",
      "1.1996513498614712\n",
      "0.5019078074619696\n",
      "0.4597359001680165\n",
      "0.5269121313512766\n",
      "0.29315922055521265\n",
      "0.557682000849777\n",
      "1.27377272612345\n",
      "0.5060866445943678\n",
      "0.5122120361770963\n",
      "0.7340076307194866\n",
      "1.7600710672113786\n",
      "0.3011292272225979\n",
      "0.3071966099597943\n",
      "0.5300924698111091\n",
      "0.6964547937699922\n",
      "0.45884054224360127\n",
      "0.2524875725784162\n",
      "0.24594337655914156\n",
      "1.8872982964190181\n",
      "0.5558910156393526\n",
      "0.29884320672585535\n",
      "4.516692370750187\n",
      "0.796825161392957\n",
      "1.1660115407032945\n",
      "1.2875376891276666\n",
      "1.4245438569407194\n",
      "1.670693109173285\n",
      "1.4098829613749913\n",
      "0.3709482844049186\n",
      "0.2727711935254968\n",
      "1.6469743876341252\n",
      "0.4711764019670703\n",
      "1.5149698109803387\n",
      "1.3897922046401783\n",
      "0.2857125929031256\n",
      "0.9908484961506342\n",
      "0.39754387347357323\n",
      "1.7133190692573919\n",
      "0.24495160237304964\n",
      "1.4634586953391244\n",
      "1.3504169839517723\n",
      "0.3315179823505128\n",
      "0.41769393850033615\n",
      "1.7207879047272217\n",
      "0.7040158308505522\n",
      "0.44996822364986744\n",
      "0.4679428613717959\n",
      "0.3238632857204183\n",
      "1.624285735380128\n",
      "0.3502069672394069\n",
      "1.7088812810156613\n"
     ]
    }
   ],
   "source": [
    "# for each image, find the homography\n",
    "\n",
    "homography_dict = {}\n",
    "\n",
    "for image in all_images:\n",
    "    corners = corner_dict[image]\n",
    "    img = cv2.imread(image)\n",
    "    img = cv2.cvtColor(img, cv2.COLOR_BGR2GRAY)\n",
    "\n",
    "    # make the corners homogeneous\n",
    "    img_corners  = np.array(corners[\"charuco_corners\"])\n",
    "    # drop second dimension\n",
    "    img_corners = img_corners.reshape(-1,2)\n",
    "    img_corners = np.hstack([img_corners, np.ones((img_corners.shape[0],1))])\n",
    "\n",
    "    # make world coords XY homogeneous\n",
    "    p = np.array(planar_coords)\n",
    "    p[:,2] = 1\n",
    "    \n",
    "\n",
    "    # find the homography\n",
    "    H,retval = cv2.findHomography(p, img_corners)\n",
    "   # print(H)\n",
    "\n",
    "    # check \n",
    "    # get reprojection error\n",
    "\n",
    "    # project the planar coordinates to the image\n",
    "    img_coords = np.dot(H, p.T)\n",
    "    img_coords = img_coords/img_coords[2,:]\n",
    "    img_coords = img_coords[:2,:].T\n",
    "    img_coords = img_coords.reshape(-1,2)\n",
    "\n",
    "    distances = np.linalg.norm(img_coords - img_corners[:,:2], axis=1)\n",
    "    l2_error = np.average(distances)\n",
    "    print(l2_error)\n",
    "\n",
    "    homography_dict[image] = {\"H\": H, \"l2_error\": l2_error}\n",
    "\n"
   ]
  },
  {
   "cell_type": "code",
   "execution_count": 98,
   "metadata": {},
   "outputs": [
    {
     "name": "stdout",
     "output_type": "stream",
     "text": [
      "[-1277169.32   3695467.467  -382147.737    -2122.206      336.197\n",
      "       -0.066]\n",
      "[ 0. -0.  0. -0. -0.  1.]\n",
      "[[1383.479    3.655  949.892]\n",
      " [   0.    1383.577  557.101]\n",
      " [   0.       0.       1.   ]]\n"
     ]
    }
   ],
   "source": [
    "# calibrate camera using zhang method algebraic solution\n",
    "\n",
    "\n",
    "# def v_ij(H,i,j):\n",
    "#     row = [H[i,0]*H[j,0], H[i,0]*H[j,1] + H[i,1]*H[j,0], H[i,1]*H[j,1], H[i,2]*H[j,0] + H[i,0]*H[j,2], H[i,2]*H[j,1] + H[i,1]*H[j,2], H[i,2]*H[j,2]]\n",
    "#     return np.array(row)\n",
    "\n",
    "def v_ij(H,i,j):\n",
    "    row = [H[0,i]*H[0,j], H[0,i]*H[1,j] + H[1,i]*H[0,j], H[1,i]* H[1,j], H[2,i]*H[0,j] + H[0,i]*H[2,j],H[2,i]*H[1,j]+H[1,i]*H[2,j],H[2,i]*H[2,j]]\n",
    "    return np.array(row)\n",
    "\n",
    "V = np.zeros((2*len(all_images), 6))\n",
    "for i,img_path in enumerate(homography_dict.keys()):\n",
    "    H = homography_dict[img_path][\"H\"]\n",
    "    V[2*i] = v_ij(H,0,1)\n",
    "    V[2*i+1] = v_ij(H,0,0) - v_ij(H,1,1)\n",
    "\n",
    "print(V[0])\n",
    "U,S,Vt = np.linalg.svd(V)\n",
    "b = Vt[-1]\n",
    "print(b)\n",
    "B = np.array([[b[0], b[1], b[3]], [b[1], b[2], b[4]], [b[3], b[4], b[5]]])\n",
    "\n",
    "v0 = (B[0,1]*B[0,2] - B[0,0]*B[1,2])/(B[0,0]*B[1,1] - B[0,1]*B[0,1])\n",
    "l = B[2,2] - (B[0,2]*B[0,2] + v0*(B[0,1]*B[0,2] - B[0,0]*B[1,2]))/B[0,0]\n",
    "alpha = np.sqrt(l/B[0,0])\n",
    "beta = np.sqrt(l*B[0,0]/(B[0,0]*B[1,1] - B[0,1]*B[0,1]))\n",
    "gamma = -B[0,1]*alpha*alpha*beta/l\n",
    "u0 = gamma*v0/alpha - B[0,2]*alpha*alpha/l\n",
    "\n",
    "\n",
    "K = np.array([[alpha, gamma, u0], [0, beta, v0], [0, 0, 1]])\n",
    "print(K)\n",
    "                        "
   ]
  },
  {
   "cell_type": "markdown",
   "metadata": {},
   "source": [
    "## opencv built-in method"
   ]
  },
  {
   "cell_type": "code",
   "execution_count": 62,
   "metadata": {},
   "outputs": [
    {
     "name": "stdout",
     "output_type": "stream",
     "text": [
      "(60, 60, 3)\n",
      "(60, 60, 2)\n",
      "[[1381.467    0.     960.995]\n",
      " [   0.    1382.512  561.762]\n",
      " [   0.       0.       1.   ]]\n",
      "[0. 0. 0. 0. 0.]\n"
     ]
    }
   ],
   "source": [
    "# use opencv to calibrate\n",
    "import random \n",
    "objPoints = []\n",
    "imgPoints = []\n",
    "\n",
    "calib_images = random.sample(all_images, 60)\n",
    "\n",
    "for img in calib_images:\n",
    "    corners = corner_dict[img]\n",
    "    objPoints.append(np.array(planar_coords))\n",
    "    imgPoints.append(corners[\"charuco_corners\"])\n",
    "\n",
    "objPoints = np.array(objPoints)\n",
    "print(objPoints.shape)\n",
    "imgPoints = np.array(imgPoints)\n",
    "imgPoints = imgPoints.reshape(imgPoints.shape[0],imgPoints.shape[1],2)\n",
    "print(imgPoints.shape)\n",
    "imgPoints = imgPoints.astype(np.float32)\n",
    "objPoints = objPoints.astype(np.float32)\n",
    "\n",
    "# no distortion optimization!\n",
    "retval, cameraMatrix, distCoeffs, rvecs, tvecs, std_dev_intrinsics,std_dev_extrinsics,per_view_rms = cv2.calibrateCameraExtended(objPoints, imgPoints, gray.shape[::-1], None, np.zeros(5), flags=cv2.CALIB_FIX_K3 | cv2.CALIB_FIX_K2 | cv2.CALIB_FIX_K1 | cv2.CALIB_FIX_TANGENT_DIST)\n",
    "\n",
    "np.set_printoptions(precision=3)\n",
    "print(cameraMatrix)\n",
    "\n",
    "print(distCoeffs)\n",
    "\n",
    "\n"
   ]
  },
  {
   "cell_type": "code",
   "execution_count": 63,
   "metadata": {},
   "outputs": [
    {
     "name": "stdout",
     "output_type": "stream",
     "text": [
      "1.1707143675350917\n"
     ]
    }
   ],
   "source": [
    "print(np.average(per_view_rms))\n"
   ]
  },
  {
   "cell_type": "code",
   "execution_count": 64,
   "metadata": {},
   "outputs": [
    {
     "name": "stdout",
     "output_type": "stream",
     "text": [
      "Reprojection error: 1.017927420250428 pixels\n"
     ]
    }
   ],
   "source": [
    "# for each image, reproject the planar coordinates to the image using the estimated camera matrix and extrinsics.\n",
    "reprojection_errors = []\n",
    "for i, img_path in enumerate(calib_images):\n",
    "    world_coords = np.array(planar_coords)\n",
    "    rvec = rvecs[i]\n",
    "    tvec = tvecs[i]\n",
    "\n",
    "    # create homogeneous matrix from tvec and rvec \n",
    "    R,_ = cv2.Rodrigues(rvec)\n",
    "    T = np.eye(4)\n",
    "    T[:3,:3] = R\n",
    "    T[:3,3] = tvec.flatten()\n",
    "\n",
    "    # project the planar coordinates to the image\n",
    "    img_coords_cv = cv2.projectPoints(world_coords.T, rvec, tvec, cameraMatrix, distCoeffs)[0].reshape(-1,2)\n",
    "\n",
    "    # can only do this w/o undistorting if the distortion is zero\n",
    "    world_coords = np.hstack([world_coords, np.ones((world_coords.shape[0],1))]).T\n",
    "    img_coords = cameraMatrix@ (T @ world_coords)[:3,:]\n",
    "    img_coords = img_coords/img_coords[2,:]\n",
    "    img_coords = img_coords[:2,:].T\n",
    "    reprojection_error = img_coords - imgPoints[i]\n",
    "    reprojection_errors.extend(reprojection_error)\n",
    "\n",
    "\n",
    "    # show image coords on the image\n",
    "    img = cv2.imread(img_path)\n",
    "    for j in range(len(img_coords)):\n",
    "        cv2.circle(img, (int(img_coords[j,0]), int(img_coords[j,1])), 5, (255,0,0), -1)\n",
    "    img = cv2.aruco.drawDetectedCornersCharuco(img, np.array(corner_dict[img_path][\"charuco_corners\"]), np.array(corner_dict[img_path][\"ids\"]), (0, 255, 0))\n",
    "    img = cv2.cvtColor(img, cv2.COLOR_BGR2RGB)\n",
    "\n",
    "    if i % 10 == 0:\n",
    "        #plt.imshow(img)\n",
    "        plt.show()\n",
    "        pass\n",
    "\n",
    "\n",
    "reprojection_distances = np.linalg.norm(reprojection_errors, axis=1)\n",
    "reprojection_error = np.mean(reprojection_distances)\n",
    "print(f\"Reprojection error: {reprojection_error} pixels\")\n",
    "    \n"
   ]
  },
  {
   "cell_type": "code",
   "execution_count": null,
   "metadata": {},
   "outputs": [],
   "source": []
  },
  {
   "cell_type": "code",
   "execution_count": 65,
   "metadata": {},
   "outputs": [
    {
     "data": {
      "text/plain": [
       "(-5.0, 5.0)"
      ]
     },
     "execution_count": 65,
     "metadata": {},
     "output_type": "execute_result"
    },
    {
     "data": {
      "image/png": "[encoded data removed]",
      "text/plain": [
       "<Figure size 1000x1000 with 1 Axes>"
      ]
     },
     "metadata": {},
     "output_type": "display_data"
    }
   ],
   "source": [
    "# plot reprojection distances\n",
    "\n",
    "# create square figure\n",
    "plt.figure(figsize=(10,10))\n",
    "reprojection_errors = np.array(reprojection_errors)\n",
    "plt.scatter(reprojection_errors[:,0], reprojection_errors[:,1], s=1)\n",
    "plt.xlim(-5,5)\n",
    "plt.ylim(-5,5)\n"
   ]
  },
  {
   "cell_type": "code",
   "execution_count": 66,
   "metadata": {},
   "outputs": [
    {
     "name": "stdout",
     "output_type": "stream",
     "text": [
      "[[1372.015    0.     967.68 ]\n",
      " [   0.    1369.215  558.417]\n",
      " [   0.       0.       1.   ]]\n"
     ]
    }
   ],
   "source": [
    "import pyrealsense2 as rs\n",
    "\n",
    "# shut camera down if it is running\n",
    "ctx = rs.context()\n",
    "devices = ctx.query_devices()\n",
    "for dev in devices:\n",
    "    dev.hardware_reset()\n",
    "\n",
    "config = rs.config()\n",
    "\n",
    "config.enable_stream(rs.stream.color, 1920,1080, rs.format.rgb8, 15)\n",
    "\n",
    "# Avoid having to reconnect the USB cable, see https://github.com/IntelRealSense/librealsense/issues/6628#issuecomment-646558144\n",
    "ctx = rs.context()\n",
    "devices = ctx.query_devices()\n",
    "for dev in devices:\n",
    "    dev.hardware_reset()\n",
    "\n",
    "pipeline = rs.pipeline()\n",
    "\n",
    "pipeline.start(config)\n",
    "# Get intrinsics matrix\n",
    "profile = pipeline.get_active_profile()\n",
    "color_profile = rs.video_stream_profile(profile.get_stream(rs.stream.color))\n",
    "intrinsics = color_profile.get_intrinsics()\n",
    "intrinsics_matrix = np.array(\n",
    "    [\n",
    "        [intrinsics.fx, 0, intrinsics.ppx],\n",
    "        [0, intrinsics.fy, intrinsics.ppy],\n",
    "        [0, 0, 1],\n",
    "    ]\n",
    ")\n",
    "\n",
    "print(intrinsics_matrix)"
   ]
  }
 ],
 "metadata": {
  "kernelspec": {
   "display_name": "cv-snippets",
   "language": "python",
   "name": "python3"
  },
  "language_info": {
   "codemirror_mode": {
    "name": "ipython",
    "version": 3
   },
   "file_extension": ".py",
   "mimetype": "text/x-python",
   "name": "python",
   "nbconvert_exporter": "python",
   "pygments_lexer": "ipython3",
   "version": "3.10.15"
  }
 },
 "nbformat": 4,
 "nbformat_minor": 2
}
